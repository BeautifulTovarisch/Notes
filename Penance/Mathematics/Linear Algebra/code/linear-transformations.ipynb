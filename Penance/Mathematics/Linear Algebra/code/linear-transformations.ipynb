{
 "cells": [
  {
   "cell_type": "markdown",
   "id": "18e2cd0f-e470-4be9-80e3-45ae7b6649d8",
   "metadata": {},
   "source": [
    "## Transformations of 2D Geometry\n",
    "\n",
    "In this lab we explore how matrix multiplication can be used to apply transformations to geometry in a plane.\n",
    "\n",
    "We represent coordinates as column-vectors: \n",
    "\n",
    "$$\n",
    "\\begin{bmatrix}\n",
    "x \\\\\n",
    "y \\\\\n",
    "z\n",
    "\\end{bmatrix}\n",
    "$$\n",
    "\n",
    "which we call a homogenous coordinate.\n",
    "\n",
    "### Lab Details\n",
    "\n",
    "We want to represents images as matrices. Additionally, we represent a pixel of an image by two vectors: _color_ and _location_. The location vector is represented as a homogenous coordinate, and the color vector by $[r, g, b]$.\n",
    "\n",
    "Color Matrix\n",
    "\n",
    "|| (0, 0) | (0, 1) | (1, 0) | (1, 1) |\n",
    "| ------ | ------ | ------ | ------ | ------ |\n",
    "| R      | 255    | 125    | 75     | 175    |\n",
    "| G      | 255    | 125    | 75     | 175    |\n",
    "| B      | 255    | 125    | 75     | 175    |\n",
    "\n",
    "### Linear Transformations\n",
    "\n",
    "> NOTE: Skipping until I can write my own implementations of whatever this author is trying to do."
   ]
  }
 ],
 "metadata": {
  "kernelspec": {
   "display_name": "Python 3 (ipykernel)",
   "language": "python",
   "name": "python3"
  },
  "language_info": {
   "codemirror_mode": {
    "name": "ipython",
    "version": 3
   },
   "file_extension": ".py",
   "mimetype": "text/x-python",
   "name": "python",
   "nbconvert_exporter": "python",
   "pygments_lexer": "ipython3",
   "version": "3.8.10"
  }
 },
 "nbformat": 4,
 "nbformat_minor": 5
}
