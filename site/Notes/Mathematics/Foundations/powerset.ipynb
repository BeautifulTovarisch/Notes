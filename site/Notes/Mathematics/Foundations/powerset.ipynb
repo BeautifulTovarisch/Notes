{
 "cells": [
  {
   "cell_type": "code",
   "execution_count": 44,
   "id": "8b3210df-7103-41f7-8b39-f71e169867ce",
   "metadata": {},
   "outputs": [],
   "source": [
    "def powerset(A):\n",
    "\t'''\n",
    "\tpowerset(A) computes the powerset of set [A]\n",
    "\n",
    "\tParameters:\n",
    "\t\tA (list): An arbitrary set of elements\n",
    "\n",
    "\tOutput:\n",
    "\t\tThe powerset of [A]\n",
    "\n",
    "\tExample:\n",
    "\t\tA = [1, 2, 3]\n",
    "\n",
    "\t\tpowerset(A) \n",
    "\t\t=> [[], [1], [2], [3], [1, 2], [1, 3], [2, 3], [1, 2, 3]]\n",
    "\t'''\n",
    "\tpset = [[]]\n",
    "\n",
    "\tfor a in A:\n",
    "\t\tfor s in pset:\n",
    "\t\t\tpset = pset + [[a] + s]\n",
    "\n",
    "\treturn pset"
   ]
  },
  {
   "cell_type": "code",
   "execution_count": 39,
   "id": "d4eb3e47-0edc-4a83-9812-a5df089d5c4e",
   "metadata": {},
   "outputs": [],
   "source": [
    "def addToSets(x, AA):\n",
    "\t'''\n",
    "\taddToSets(x, AA) appends element [x] to each set in [AA]\n",
    "\n",
    "\tParameters:\n",
    "\t\tx (T): Arbitrary element\n",
    "\t\tAA (list[]): A list of sets\n",
    "\n",
    "\tOutput:\n",
    "\t\tThe set AA such that every element in AA has [x] appended\n",
    "\n",
    "\tExample:\n",
    "\t\taddToSets(1, [[0], [2, 3], [1, 2, 3]])\n",
    "\t\t=> [[0, 1], [2, 3, 1], [1, 2, 3, 1]]\n",
    "\t'''\n",
    "\tif AA == []:\n",
    "\t\treturn []\n",
    "\n",
    "\treturn [[x] + AA[0]] + addToSets(x, AA[1:])\n",
    "    \n",
    "# Recursive implementation. The trick to understanding this is to think about the powerset as a union between the sets that contain some arbitrary element a and those that do not.\n",
    "def powerset_recur(A):\n",
    "    if A == []:\n",
    "        return [[]]\n",
    "\n",
    "    pset = powerset_recur(A[1:])\n",
    "\n",
    "    return pset + addToSets(A[0], pset)"
   ]
  },
  {
   "cell_type": "code",
   "execution_count": 47,
   "id": "5ca13e7e-ccd5-4f66-ab2e-2fd4322e14a7",
   "metadata": {},
   "outputs": [
    {
     "name": "stdout",
     "output_type": "stream",
     "text": [
      "[[], [1], [2], [2, 1], [3], [3, 1], [3, 2], [3, 2, 1]]\n",
      "[[], [3], [2], [2, 3], [1], [1, 3], [1, 2], [1, 2, 3]]\n"
     ]
    }
   ],
   "source": [
    "print(powerset([1, 2, 3]))\n",
    "print(powerset_recur([1, 2, 3]))"
   ]
  }
 ],
 "metadata": {
  "kernelspec": {
   "display_name": "Python 3 (ipykernel)",
   "language": "python",
   "name": "python3"
  },
  "language_info": {
   "codemirror_mode": {
    "name": "ipython",
    "version": 3
   },
   "file_extension": ".py",
   "mimetype": "text/x-python",
   "name": "python",
   "nbconvert_exporter": "python",
   "pygments_lexer": "ipython3",
   "version": "3.8.10"
  }
 },
 "nbformat": 4,
 "nbformat_minor": 5
}
