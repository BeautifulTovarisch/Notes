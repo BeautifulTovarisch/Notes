{
 "cells": [
  {
   "cell_type": "markdown",
   "id": "9b0e019d-4c28-4f1c-a34c-686eb7a32741",
   "metadata": {},
   "source": [
    "$$\n",
    "fib(n) =\n",
    "\\begin{cases}\n",
    "1 & \\text{if $n \\leq 1$} \\\\\n",
    "fib(n-1) + fib(n-2) & \\text{otherwise}\n",
    "\\end{cases}\n",
    "$$"
   ]
  },
  {
   "cell_type": "code",
   "execution_count": 2,
   "id": "7347488d-9182-40b4-b124-70d6b57de779",
   "metadata": {},
   "outputs": [],
   "source": [
    "# Recursive (bad) implemenation\n",
    "def fib(n):\n",
    "    '''\n",
    "    fib(n) computes the nth term in the fibonacci sequence\n",
    "\n",
    "    Parameters:\n",
    "        n (int): The desired term of the fibonacci sequence\n",
    "\n",
    "    Output:\n",
    "        The nth term of the fibonacci sequence\n",
    "    '''\n",
    "    if n <= 1:\n",
    "        return 1\n",
    "\n",
    "    return fib(n - 1) + fib(n - 2)"
   ]
  },
  {
   "cell_type": "code",
   "execution_count": 9,
   "id": "dcc7c672-5fd9-4857-b2b7-32a686d12149",
   "metadata": {},
   "outputs": [],
   "source": [
    "# Recursive (better) implemenation\n",
    "def fib_2(n):\n",
    "    def recur(cur, next, n):\n",
    "        if n == 0:\n",
    "            return next\n",
    "\n",
    "        return recur(next, cur + next, n - 1)\n",
    "\n",
    "    return recur(0, 1, n)"
   ]
  },
  {
   "cell_type": "code",
   "execution_count": 15,
   "id": "f9de7561-92f7-48b3-be28-368b8bc1fb52",
   "metadata": {},
   "outputs": [],
   "source": [
    "# Iterative (good) implemenation\n",
    "def fib_3(n):\n",
    "    i = 0\n",
    "    j = 1\n",
    "\n",
    "    while n > 0:\n",
    "        next = i + j\n",
    "        i = j\n",
    "        j = next\n",
    "\n",
    "        n = n - 1\n",
    "\n",
    "    return j"
   ]
  },
  {
   "cell_type": "code",
   "execution_count": 17,
   "id": "622144a2-253f-4f79-80f9-9692e12e5ab1",
   "metadata": {},
   "outputs": [
    {
     "name": "stdout",
     "output_type": "stream",
     "text": [
      "[1, 1, 2, 3, 5, 8, 13, 21, 34, 55]\n",
      "[1, 1, 2, 3, 5, 8, 13, 21, 34, 55]\n",
      "[1, 1, 2, 3, 5, 8, 13, 21, 34, 55]\n"
     ]
    }
   ],
   "source": [
    "print([fib(i) for i in range(10)])\n",
    "print([fib_2(i) for i in range(10)])\n",
    "print([fib_3(i) for i in range(10)])"
   ]
  }
 ],
 "metadata": {
  "kernelspec": {
   "display_name": "Python 3 (ipykernel)",
   "language": "python",
   "name": "python3"
  },
  "language_info": {
   "codemirror_mode": {
    "name": "ipython",
    "version": 3
   },
   "file_extension": ".py",
   "mimetype": "text/x-python",
   "name": "python",
   "nbconvert_exporter": "python",
   "pygments_lexer": "ipython3",
   "version": "3.8.10"
  }
 },
 "nbformat": 4,
 "nbformat_minor": 5
}
