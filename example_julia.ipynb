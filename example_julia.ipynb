{
  "cells": [
    {
      "cell_type": "markdown",
      "metadata": {
        "id": "view-in-github",
        "colab_type": "text"
      },
      "source": [
        "<a href=\"https://colab.research.google.com/github/BeautifulTovarisch/Notes/blob/main/example_julia.ipynb\" target=\"_parent\"><img src=\"https://colab.research.google.com/assets/colab-badge.svg\" alt=\"Open In Colab\"/></a>"
      ]
    },
    {
      "cell_type": "code",
      "source": [
        "import Pkg\n",
        "\n",
        "Pkg.add(\"HTTP\")\n",
        "Pkg.add(\"JSON\")\n",
        "\n",
        "using HTTP, JSON\n",
        "\n",
        "data = HTTP.request(\"GET\",\n",
        "  \"https://ocw.mit.edu/ans7870/6/6.006/s08/lecturenotes/files/t8.shakespeare.txt\"\n",
        ")\n",
        "\n",
        "shakespeare = String(data.body)\n",
        "spWords = split(shakespeare)"
      ],
      "metadata": {
        "colab": {
          "base_uri": "https://localhost:8080/"
        },
        "id": "v39NdbzPDzc6",
        "outputId": "5dbb53eb-fb7f-4095-b40d-370addec0898"
      },
      "execution_count": 9,
      "outputs": [
        {
          "output_type": "stream",
          "name": "stderr",
          "text": [
            "\u001b[32m\u001b[1m    Updating\u001b[22m\u001b[39m registry at `~/.julia/registries/General.toml`\n",
            "\u001b[32m\u001b[1m   Resolving\u001b[22m\u001b[39m package versions...\n",
            "\u001b[32m\u001b[1m   Installed\u001b[22m\u001b[39m HTTP ─ v1.10.16\n",
            "\u001b[32m\u001b[1m    Updating\u001b[22m\u001b[39m `~/.julia/environments/v1.10/Project.toml`\n",
            "  \u001b[90m[cd3eb016] \u001b[39m\u001b[92m+ HTTP v1.10.16\u001b[39m\n",
            "\u001b[32m\u001b[1m    Updating\u001b[22m\u001b[39m `~/.julia/environments/v1.10/Manifest.toml`\n",
            "  \u001b[90m[cd3eb016] \u001b[39m\u001b[93m↑ HTTP v1.10.15 ⇒ v1.10.16\u001b[39m\n",
            "\u001b[32m\u001b[1mPrecompiling\u001b[22m\u001b[39m packages...\n",
            "  29421.0 ms\u001b[32m  ✓ \u001b[39mHTTP\n",
            "   1270.0 ms\u001b[32m  ✓ \u001b[39m\u001b[90mFileIO → HTTPExt\u001b[39m\n",
            "  98006.2 ms\u001b[32m  ✓ \u001b[39mReactant\n",
            "   9375.1 ms\u001b[32m  ✓ \u001b[39mReactant → ReactantRandom123Ext\n",
            "   9605.1 ms\u001b[32m  ✓ \u001b[39mReactant → ReactantStatisticsExt\n",
            "  11711.6 ms\u001b[32m  ✓ \u001b[39mReactant → ReactantKernelAbstractionsExt\n",
            "   8281.0 ms\u001b[32m  ✓ \u001b[39mReactant → ReactantAbstractFFTsExt\n",
            "   9219.8 ms\u001b[32m  ✓ \u001b[39mReactant → ReactantSpecialFunctionsExt\n",
            "   8304.5 ms\u001b[32m  ✓ \u001b[39mReactant → ReactantArrayInterfaceExt\n",
            "  10165.8 ms\u001b[32m  ✓ \u001b[39m\u001b[90mLuxCore → LuxCoreReactantExt\u001b[39m\n",
            "   9204.6 ms\u001b[32m  ✓ \u001b[39m\u001b[90mMLDataDevices → MLDataDevicesReactantExt\u001b[39m\n",
            "  16370.2 ms\u001b[32m  ✓ \u001b[39m\u001b[90mOptimisers → OptimisersReactantExt\u001b[39m\n",
            "  50877.7 ms\u001b[32m  ✓ \u001b[39mReactant → ReactantOffsetArraysExt\n",
            "   9444.3 ms\u001b[32m  ✓ \u001b[39m\u001b[90mWeightInitializers → WeightInitializersReactantExt\u001b[39m\n",
            "  54531.9 ms\u001b[32m  ✓ \u001b[39mReactant → ReactantNNlibExt\n",
            "  12320.5 ms\u001b[32m  ✓ \u001b[39mLux → LuxReactantExt\n",
            " 240917.0 ms\u001b[32m  ✓ \u001b[39mReactant → ReactantCUDAExt\n",
            "  17 dependencies successfully precompiled in 422 seconds. 442 already precompiled.\n",
            "\u001b[32m\u001b[1m   Resolving\u001b[22m\u001b[39m package versions...\n",
            "\u001b[32m\u001b[1m    Updating\u001b[22m\u001b[39m `~/.julia/environments/v1.10/Project.toml`\n",
            "  \u001b[90m[682c06a0] \u001b[39m\u001b[92m+ JSON v0.21.4\u001b[39m\n",
            "\u001b[32m\u001b[1m  No Changes\u001b[22m\u001b[39m to `~/.julia/environments/v1.10/Manifest.toml`\n"
          ]
        }
      ]
    }
  ],
  "metadata": {
    "colab": {
      "name": "Welcome To Colab",
      "provenance": [],
      "include_colab_link": true
    },
    "kernelspec": {
      "display_name": "Julia",
      "name": "julia"
    },
    "language_info": {
      "name": "julia"
    }
  },
  "nbformat": 4,
  "nbformat_minor": 0
}