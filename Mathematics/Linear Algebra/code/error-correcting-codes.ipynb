{
 "cells": [
  {
   "cell_type": "markdown",
   "id": "5ee07d2b-8466-493c-a9ca-1438aabe7154",
   "metadata": {},
   "source": [
    "## Error Correcting Codes\n",
    "\n",
    "In this lab, we use matrix multiplication to explore the ideas behind hamming codes and their use in error-correction. We use a **generator** matrix in order to represent a vector space. In particular, a generator matrix for a linear code is a matrix whose columns are generators for the set of codewords $\\mathcal{C}$.\n",
    "\n",
    "For some vector $p$, we see by the linear-combination form of matrix multiplication that $G * p$ is a linear combination of the columns of $G$ and is therefore in $\\mathcal{C}$ and so it is a codeword."
   ]
  },
  {
   "cell_type": "code",
   "execution_count": 1,
   "id": "edd5d9be-51fb-4b1a-99ca-3e90a85ef740",
   "metadata": {},
   "outputs": [],
   "source": [
    "'''\n",
    "Initializaiton\n",
    "'''\n",
    "\n",
    "from matrix import transpose, mv, mm\n",
    "from vector import scale, dot, zero_vec, add\n",
    "\n",
    "def gfadd(u, v):\n",
    "    '''\n",
    "    gfadd(u, v) performs vector addition under the GF(2) field\n",
    "\n",
    "    Parameters:\n",
    "        u, v (list): n-vectors under GF(2)\n",
    "\n",
    "    Output:\n",
    "        An n-vector that is the result of [u] + [v]\n",
    "\n",
    "    Example:\n",
    "        u = [1, 0, 1]\n",
    "        v = [1, 1, 0]\n",
    "\n",
    "        gfadd(u, v)\n",
    "        => [0, 1, 1]\n",
    "    '''\n",
    "    return [u[k] ^ v[k] for k in range(len(u))]\n",
    "\n",
    "def gfdot(u, v):\n",
    "    '''\n",
    "    gfdot(u, v) computes the dot product of [u] and [v], ensuring\n",
    "    [u], [v] are treated as vectors in GF(2)\n",
    "\n",
    "    Parameters:\n",
    "        u, v (list): n-vectors in GF(2)\n",
    "\n",
    "    Output:\n",
    "        A scalar in GF(2)\n",
    "\n",
    "    Example:\n",
    "        u = [1, 0, 1, 1]\n",
    "        v = [1, 1, 1, 0]\n",
    "\n",
    "        gfdot(u, v)\n",
    "        => (1 * 1) + (0 * 1) + (1 * 1) + (0 * 1)\n",
    "        => 1 + 1\n",
    "        => 0\n",
    "    '''\n",
    "    prod = [u[k] * v[k] for k in range(len(u))]\n",
    "\n",
    "    sum = 0\n",
    "    for b in prod:\n",
    "        sum = sum ^ b\n",
    "\n",
    "    return sum\n",
    "\n",
    "gfmv = mv(gfadd)\n",
    "\n",
    "# Generator Matrix\n",
    "G = [\n",
    "    [1, 0, 1, 1],\n",
    "    [1, 1, 0, 1],\n",
    "    [0, 0, 0, 1],\n",
    "    [1, 1, 1, 0],\n",
    "    [0, 0, 1, 0],\n",
    "    [0, 1, 0, 0],\n",
    "    [1, 0, 0, 0]\n",
    "]\n",
    "\n",
    "# Check Matrix\n",
    "H = [\n",
    "    [0, 0, 0, 1, 1, 1, 1],\n",
    "    [0, 1, 1, 0, 0, 1, 1],\n",
    "    [1, 0, 1, 0, 1, 0, 1]\n",
    "]"
   ]
  },
  {
   "cell_type": "markdown",
   "id": "03b84091-1c6a-446a-8919-9805a0fb2284",
   "metadata": {},
   "source": [
    "### Encoding\n",
    "\n",
    "A 4-bit message $p$ is encoded by $f_G(p) = G * p$, the image of which is a 7-vector. For example we compute the encoding of $p = [1, 0, 0, 1]$:\n",
    "\n",
    "$$\n",
    "G =\n",
    "\\begin{bmatrix}\n",
    "1 & 0 & 1 & 1 \\\\\n",
    "1 & 1 & 0 & 1 \\\\\n",
    "0 & 0 & 0 & 1 \\\\\n",
    "1 & 1 & 1 & 0 \\\\\n",
    "0 & 0 & 1 & 0 \\\\\n",
    "0 & 1 & 0 & 0 \\\\\n",
    "1 & 0 & 0 & 0\n",
    "\\end{bmatrix} *\n",
    "p = [1, 0, 0, 1]\n",
    "$$\n",
    "\n",
    "is given by the linear combination\n",
    "\n",
    "$$\n",
    "\\begin{align}\n",
    "1 * [1, 1, 0, 1, 0, 0, 1] &+ \\\\ \n",
    "0 * [0, 1, 0, 1, 0, 1, 0] &+ \\\\ \n",
    "0 * [1, 0, 0, 1, 1, 0, 0] &+ \\\\ \n",
    "1 * [1, 1, 1, 0, 0, 0, 0] \\\\ \\\\\n",
    "= [0, 0, 1, 1, 0, 0, 1] \n",
    "\\end{align}\n",
    "$$"
   ]
  },
  {
   "cell_type": "code",
   "execution_count": 2,
   "id": "dba56bd1-5f96-4b64-9f37-7879be5bd3a1",
   "metadata": {},
   "outputs": [
    {
     "data": {
      "text/plain": [
       "[0, 0, 1, 1, 0, 0, 1]"
      ]
     },
     "execution_count": 2,
     "metadata": {},
     "output_type": "execute_result"
    }
   ],
   "source": [
    "# Encoding\n",
    "p = [1, 0, 0, 1]\n",
    "\n",
    "gfmv(G, p)"
   ]
  },
  {
   "cell_type": "markdown",
   "id": "b6f41fcd-9df3-488e-a9ae-25b274da06f4",
   "metadata": {},
   "source": [
    "## Manual Decoding\n",
    "\n",
    "We see that the rows of $G$ correspondng to the standard basis vectors of $GF(2)^4$:\n",
    "\n",
    "Row 3 = $[0, 0, 0, 1] = e_4$\n",
    "Row 5 = $[0, 0, 1, 0] = e_3$\n",
    "Row 6 = $[0, 1, 0, 0] = e_2$\n",
    "Row 7 = $[1, 0, 0, 0] = e_1$\n",
    "\n",
    "which suggests: (my guess: That a word $p$ can be written as a linear combination of some of the rows of $G$?)\n",
    "\n",
    "> Not actually certain what the book means to imply here.\n",
    "\n",
    "### Example\n",
    "\n",
    "Decoding $[0, 1, 1, 1, 1, 0, 0]$ by hand:\n",
    "\n",
    "Using the linear combination defintion of matrix-vector multiplication:\n",
    "\n",
    "$$\n",
    "G =\n",
    "\\begin{bmatrix}\n",
    "1 & 0 & 1 & 1 \\\\\n",
    "1 & 1 & 0 & 1 \\\\\n",
    "0 & 0 & 0 & 1 \\\\\n",
    "1 & 1 & 1 & 0 \\\\\n",
    "0 & 0 & 1 & 0 \\\\\n",
    "0 & 1 & 0 & 0 \\\\\n",
    "1 & 0 & 0 & 0\n",
    "\\end{bmatrix} * p\n",
    "$$\n",
    "\n",
    "is represented by the linear combination:\n",
    "\n",
    "$$\n",
    "\\begin{align}\n",
    "G * p &= p_1[1, 1, 0, 1, 0, 0, 1] \\\\\n",
    "&+       p_2[0, 1, 0, 1, 0, 1, 0] \\\\\n",
    "&+       p_3[1, 0, 0, 1, 1, 0, 0] \\\\\n",
    "&+       p_4[1, 1, 1, 0, 0, 0, 0]\n",
    "\\end{align}\n",
    "$$\n",
    "\n",
    "> Not sure if this is the correct method, but it worked for me:\n",
    "\n",
    "We deduce that $p_1$ must be 0 since the codeword ends in a zero, and no other vector contains a one in the 7th entry. Similarly $p_2$ must be 0 due to the 6th entry of the codeword being 0. Next I guessed that $p_3 = p_4 = 1$ would work out:\n",
    "\n",
    "$$\n",
    "[1, 0, 0, 1, 1, 0, 0] + [1, 1, 1, 0, 0, 0, 0] = [0, 1, 1, 1, 1, 0, 0]\n",
    "$$\n",
    "\n",
    "So then $p = [0, 0, 1, 1]$"
   ]
  },
  {
   "cell_type": "code",
   "execution_count": 3,
   "id": "ed842f64-9631-46f7-82a5-dae7645e678d",
   "metadata": {},
   "outputs": [
    {
     "data": {
      "text/plain": [
       "[0, 1, 1, 1, 1, 0, 0]"
      ]
     },
     "execution_count": 3,
     "metadata": {},
     "output_type": "execute_result"
    }
   ],
   "source": [
    "# Verification of decoding algorithm\n",
    "gfmv(G, [0, 0, 1, 1])"
   ]
  },
  {
   "cell_type": "code",
   "execution_count": 5,
   "id": "0f0e0f87-f9e9-4cec-a52e-66be4c7399fa",
   "metadata": {},
   "outputs": [
    {
     "name": "stdout",
     "output_type": "stream",
     "text": [
      "[[4, 3], [2, 1], [0, -1]]\n"
     ]
    }
   ],
   "source": [
    "A = [\n",
    "    [1, 2],\n",
    "    [-1, 1]\n",
    "]\n",
    "\n",
    "B = [\n",
    "    [4, 2, 0],\n",
    "    [3, 1, -1]\n",
    "]\n",
    "\n",
    "print(transpose(B))\n",
    "\n",
    "# mm(dot)(A, B)"
   ]
  },
  {
   "cell_type": "markdown",
   "id": "b9c2a8e3-740b-482e-ada0-c05a4a246969",
   "metadata": {},
   "source": [
    "## Decoding with the inverse of G\n",
    "\n",
    "Since $f_G$ is a linear transformation, if it is a bijection, then $G$ is invertible and its inverse would provide a matrix such that $R * c = \\text{<original word>}$. We don't yet know how to prove surjectivity of a linear function, but we can try to find an inverse matrix of $G$ regardless.\n",
    "\n",
    "### Finding the inverse of G\n",
    "\n"
   ]
  }
 ],
 "metadata": {
  "kernelspec": {
   "display_name": "Python 3 (ipykernel)",
   "language": "python",
   "name": "python3"
  },
  "language_info": {
   "codemirror_mode": {
    "name": "ipython",
    "version": 3
   },
   "file_extension": ".py",
   "mimetype": "text/x-python",
   "name": "python",
   "nbconvert_exporter": "python",
   "pygments_lexer": "ipython3",
   "version": "3.8.10"
  }
 },
 "nbformat": 4,
 "nbformat_minor": 5
}
