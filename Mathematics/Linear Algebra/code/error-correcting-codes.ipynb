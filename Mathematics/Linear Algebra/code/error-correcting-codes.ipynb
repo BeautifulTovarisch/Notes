{
 "cells": [
  {
   "cell_type": "markdown",
   "id": "5ee07d2b-8466-493c-a9ca-1438aabe7154",
   "metadata": {},
   "source": [
    "## Error Correcting Codes\n",
    "\n",
    "In this lab, we use matrix multiplication to explore the ideas behind hamming codes and their use in error-correction. We use a **generator** matrix in order to represent a vector space. In particular, a generator matrix for a linear code is a matrix whose columns are generators for the set of codewords $\\mathcal{C}$.\n",
    "\n",
    "For some vector $p$, we see by the linear-combination form of matrix multiplication that $G * p$ is a linear combination of the columns of $G$ and is therefore in $\\mathcal{C}$ and so it is a codeword."
   ]
  },
  {
   "cell_type": "code",
   "execution_count": 2,
   "id": "edd5d9be-51fb-4b1a-99ca-3e90a85ef740",
   "metadata": {},
   "outputs": [
    {
     "name": "stdout",
     "output_type": "stream",
     "text": [
      "[[1, 0, 1, 1], [1, 1, 0, 1], [0, 0, 0, 1], [1, 1, 1, 0], [0, 0, 1, 0], [0, 1, 0, 0], [1, 0, 0, 0]]\n"
     ]
    }
   ],
   "source": [
    "# Generator Matrix\n",
    "G = [\n",
    "    [1, 0, 1, 1],\n",
    "    [1, 1, 0, 1],\n",
    "    [0, 0, 0, 1],\n",
    "    [1, 1, 1, 0],\n",
    "    [0, 0, 1, 0],\n",
    "    [0, 1, 0, 0],\n",
    "    [1, 0, 0, 0],\n",
    "]"
   ]
  },
  {
   "cell_type": "markdown",
   "id": "03b84091-1c6a-446a-8919-9805a0fb2284",
   "metadata": {},
   "source": [
    "### Encoding\n",
    "\n",
    "A 4-bit message $p$ is encoded by $f_G(p) = G * p$, the image of which is a 7-vector."
   ]
  },
  {
   "cell_type": "code",
   "execution_count": 3,
   "id": "dba56bd1-5f96-4b64-9f37-7879be5bd3a1",
   "metadata": {},
   "outputs": [
    {
     "name": "stdout",
     "output_type": "stream",
     "text": [
      "[2, 4, 6]\n"
     ]
    }
   ],
   "source": [
    "from matrix import "
   ]
  }
 ],
 "metadata": {
  "kernelspec": {
   "display_name": "Python 3 (ipykernel)",
   "language": "python",
   "name": "python3"
  },
  "language_info": {
   "codemirror_mode": {
    "name": "ipython",
    "version": 3
   },
   "file_extension": ".py",
   "mimetype": "text/x-python",
   "name": "python",
   "nbconvert_exporter": "python",
   "pygments_lexer": "ipython3",
   "version": "3.8.10"
  }
 },
 "nbformat": 4,
 "nbformat_minor": 5
}
